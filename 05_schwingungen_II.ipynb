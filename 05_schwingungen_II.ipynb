{
 "cells": [
  {
   "cell_type": "code",
   "execution_count": 1,
   "metadata": {},
   "outputs": [],
   "source": [
    "from __future__ import division\n",
    "from IPython.display import display\n",
    "from IPython.display import Markdown as md\n",
    "from IPython.core.display import SVG\n",
    "from sympy.interactive import printing\n",
    "printing.init_printing(use_latex='mathjax')\n",
    "\n",
    "import pandas as pd\n",
    "import numpy as np\n",
    "import random\n",
    "import matplotlib.pyplot as plt\n",
    "from scipy.odr import *\n",
    "import scipy.odr.odrpack as odrpack\n",
    "from uncertainties import ufloat\n",
    "from uncertainties.umath import *\n",
    "from uncertainties import unumpy\n",
    "\n",
    "import sympy as sp\n",
    "sf = sp.sympify\n",
    "\n",
    "import scipy.constants as cm\n",
    "import pint as pn\n",
    "ureg = pn.UnitRegistry(system='mks')\n",
    "ureg.default_format = '~P'\n",
    "pe = ureg.parse_expression\n",
    "\n",
    "## Konstanten und Einheiten\n",
    "CM = pd.DataFrame(cm.physical_constants).T\n",
    "CM['c'] = CM.index\n",
    "CM = CM.reset_index(drop=True)\n",
    "def getpc(quant):\n",
    "    DF = CM\n",
    "    DF = DF[DF['c']==quant].reset_index(drop=True)\n",
    "    quan = DF[0][0] * ureg(DF[1][0])\n",
    "    return quan\n",
    "def addnoise(X,scale=0.01,lin=False):\n",
    "    if not lin:\n",
    "        mag = scale*(np.max(X.m)-np.min(X.m))\n",
    "        return np.random.normal(0,mag,len(X.m))*X.u\n",
    "    if lin:\n",
    "        return np.random.normal(0,1,len(X.m))*X*scale\n",
    "def uODR(func,beta0,xdata,ydata,**kwargs):\n",
    "    xfit = kwargs.get('xfit',xdata)\n",
    "    sx = kwargs.get('sx',None)\n",
    "    sy = kwargs.get('sy',None)\n",
    "    model = Model(func)\n",
    "    data = RealData(xdata,ydata, sx=sx, sy=sy)\n",
    "    odr = ODR(data, model, beta0=beta0)\n",
    "    out = odr.run()\n",
    "    # Estimated parameter values, of shape q\n",
    "    p = out.beta\n",
    "    # Standard errors of the estimated parameters, of shape p\n",
    "    perr = out.sd_beta\n",
    "    up =unumpy.uarray(p, perr)\n",
    "    yfit=func(p, xfit) \n",
    "    return up , p, yfit, out"
   ]
  },
  {
   "cell_type": "code",
   "execution_count": 2,
   "metadata": {},
   "outputs": [],
   "source": [
    "g = getpc('standard acceleration of gravity')\n",
    "m_e = getpc('electron mass')\n",
    "e = getpc('elementary charge')\n",
    "c = getpc('speed of light in vacuum')\n",
    "e0 = getpc('electric constant')\n",
    "mu0 = getpc('mag. constant')"
   ]
  },
  {
   "cell_type": "code",
   "execution_count": 3,
   "metadata": {},
   "outputs": [
    {
     "data": {
      "text/html": [
       "<script>\n",
       "code_show=true; \n",
       "function code_toggle() {\n",
       " if (code_show){\n",
       " $('div.input').hide();\n",
       " } else {\n",
       " $('div.input').show();\n",
       " }\n",
       " code_show = !code_show\n",
       "} \n",
       "$( document ).ready(code_toggle);\n",
       "</script>\n",
       "<form action=\"javascript:code_toggle()\"><input type=\"submit\" value=\"Quellcode an/aus schalten.\"></form>"
      ],
      "text/plain": [
       "<IPython.core.display.HTML object>"
      ]
     },
     "execution_count": 3,
     "metadata": {},
     "output_type": "execute_result"
    }
   ],
   "source": [
    "from IPython.display import HTML\n",
    "\n",
    "HTML('''<script>\n",
    "code_show=true; \n",
    "function code_toggle() {\n",
    " if (code_show){\n",
    " $('div.input').hide();\n",
    " } else {\n",
    " $('div.input').show();\n",
    " }\n",
    " code_show = !code_show\n",
    "} \n",
    "$( document ).ready(code_toggle);\n",
    "</script>\n",
    "<form action=\"javascript:code_toggle()\"><input type=\"submit\" value=\"Quellcode an/aus schalten.\"></form>''')"
   ]
  },
  {
   "cell_type": "markdown",
   "metadata": {},
   "source": [
    "# Übungen Schwingungen II\n",
    "\n",
    "## Aufgabe 1\n",
    "https://www.leifiphysik.de/mechanik/mechanische-schwingungen/aufgabe/serienschaltung-von-federpendeln"
   ]
  },
  {
   "cell_type": "markdown",
   "metadata": {},
   "source": [
    "## Aufgabe 2\n",
    "Die Rückstellkraft die auf das Massestück wirkt ist die Summe aus den beiden Federkräften.\n",
    "$$\\begin{eqnarray}\n",
    "F &=& F_{1} + F_{2}\\\\\n",
    "&=& -D_1 s - D_2 s \\\\\n",
    "&=& -\\underbrace{D_1+D_2}_{D} \\cdot s \\\\\n",
    "\\omega_0 &=& \\sqrt{\\frac{D}{m}} \\\\\n",
    "f_0 &=& \\frac{\\omega_0}{2 \\pi}\n",
    "\\end{eqnarray}$$"
   ]
  },
  {
   "cell_type": "code",
   "execution_count": 4,
   "metadata": {},
   "outputs": [
    {
     "data": {
      "text/markdown": [
       "Gegeben: <br/> $D_1 = 3.0 N/cm$; $D_2 = 2.0 N/cm$<br/>Lösung:<br/>$D = 5.0 N/cm$; $\\omega_0 = 15.8 Hz$; $f_0 = 2.52 Hz$"
      ],
      "text/plain": [
       "<IPython.core.display.Markdown object>"
      ]
     },
     "execution_count": 4,
     "metadata": {},
     "output_type": "execute_result"
    }
   ],
   "source": [
    "D_1 = pe('3N/cm')\n",
    "D_2 = pe('2N/cm')\n",
    "m = pe('2kg')\n",
    "\n",
    "D = D_1 + D_2\n",
    "\n",
    "omega = np.sqrt(D/m).to('Hz')\n",
    "f = omega/(2*np.pi)\n",
    "\n",
    "md(\"Gegeben: <br/>\"\n",
    "+ \" $D_1 = {:~P}$\".format(D_1) \n",
    "+ \"; $D_2 = {:~P}$\".format(D_2)  \n",
    "+ \"<br/>Lösung:<br/>\" \n",
    "+ \"$D = {:.3~P}$\".format(D)\n",
    "+ \"; $\\\\omega_0 = {:.3~P}$\".format(omega)\n",
    "+ \"; $f_0 = {:.3~P}$\".format(f))"
   ]
  },
  {
   "cell_type": "markdown",
   "metadata": {},
   "source": [
    "## Aufgabe 3\n",
    "Die Geschwindigkeit eines harmonischen Oszillators ist bekannt durch:\n",
    "$$v(t) = \\hat{s} \\omega_0 \\cos{(\\omega_0 t)}$$\n",
    "Die halbe maximale Geschwindigkeit wird bei $\\cos{\\omega_0 t} = \\frac{1}{2}$ für $\\omega_0 t = \\frac{\\pi}{3}$ erreicht. Bei der Amplitude $\\sin{\\left(\\frac{\\pi}{3}\\right)}\\hat{s}=\\frac{\\sqrt{3}}{2}\\hat{s} \\approx 0.866 \\hat{s}$ und zum Zeitpunkt $t = \\frac{\\pi}{3 \\omega_0}$ hat die Geschwindigkeit den halben maximalen Wert."
   ]
  },
  {
   "cell_type": "markdown",
   "metadata": {},
   "source": [
    "## Aufgabe 4\n",
    "Die Frequenz eines harmonischen Pendels ist:\n",
    "$$f_0(m) = \\frac{\\sqrt{\\tfrac{D}{m}}}{2 \\pi}$$\n",
    "Daraus folgt für das Verhältnis der Eigenfrequenzen zweier harmonischer Pendel mit unterschiedlicher Masse und gleicher Federkonstante:\n",
    "$$\\begin{eqnarray}\n",
    "\\frac{f_0(m_2)}{f_0(m_1)} &=& \\sqrt{\\frac{m_1}{m_2}} \\\\\n",
    "&=& \\sqrt{\\frac{m}{m + \\Delta m}}\\\\\n",
    "m &=& \\frac{\\left(\\tfrac{f_0(m_2)}{f_0(m_1)}\\right)^2 \\cdot \\Delta m}{1- \\left(\\tfrac{f_0(m_2)}{f_0(m_1)}\\right)^2}\n",
    "\\end{eqnarray}$$"
   ]
  },
  {
   "cell_type": "code",
   "execution_count": 5,
   "metadata": {},
   "outputs": [
    {
     "data": {
      "text/markdown": [
       "Gegeben: <br/> $f_{0}(m_1) = 0.88 Hz$; $f_{0}(m_2) = 0.48 Hz$; $\\Delta m = 1.25 kg$<br/>Lösung:<br/>$m = 0.529 kg$"
      ],
      "text/plain": [
       "<IPython.core.display.Markdown object>"
      ]
     },
     "execution_count": 5,
     "metadata": {},
     "output_type": "execute_result"
    }
   ],
   "source": [
    "f_1 = pe('0.88 Hz')\n",
    "f_2 = pe('0.48 Hz')\n",
    "dm = pe('1.25kg')\n",
    "\n",
    "m = ((f_2/f_1)**2*dm)/(1-(f_2/f_1)**2)\n",
    "\n",
    "md(\"Gegeben: <br/>\"\n",
    "+ \" $f_{{0}}(m_1) = {:~P}$\".format(f_1) \n",
    "+ \"; $f_{{0}}(m_2) = {:~P}$\".format(f_2) \n",
    "+ \"; $\\\\Delta m = {:~P}$\".format(dm) \n",
    "+ \"<br/>Lösung:<br/>\" \n",
    "+ \"$m = {:.3~P}$\".format(m))"
   ]
  },
  {
   "cell_type": "markdown",
   "metadata": {},
   "source": [
    "## Aufgabe 5\n",
    "### a)\n",
    "Mit gegebener Frequenz $f$ und Masse $m$ berechnet man die Federkonstante $$D = \\left ( 2 \\pi f \\right )^2 m $$."
   ]
  },
  {
   "cell_type": "code",
   "execution_count": 6,
   "metadata": {},
   "outputs": [
    {
     "data": {
      "text/markdown": [
       "Gegeben: <br/> $f = 3.5 Hz$; $m = 240 g$<br/>Lösung:<br/>$D = 116.1 N/m$"
      ],
      "text/plain": [
       "<IPython.core.display.Markdown object>"
      ]
     },
     "execution_count": 6,
     "metadata": {},
     "output_type": "execute_result"
    }
   ],
   "source": [
    "f = pe('3.5 Hz')\n",
    "m = pe('240g')\n",
    "omega = 2 * np.pi * f\n",
    "\n",
    "D = (omega**2 * m).to('N/m')\n",
    "\n",
    "md(\"Gegeben: <br/>\"\n",
    "+ \" $f = {:~P}$\".format(f) \n",
    "+ \"; $m = {:~P}$\".format(m)  \n",
    "+ \"<br/>Lösung:<br/>\" \n",
    "+ \"$D = {:.4~P}$\".format(D))"
   ]
  },
  {
   "cell_type": "markdown",
   "metadata": {},
   "source": [
    "### b)\n",
    "Die größte potentielle Energie liegt bei der größten Auslenktung der Feder vor.\n",
    "$$W_{{\\mathrm{{max}}}} = \\frac{1}{2} D \\hat{s}^2$$"
   ]
  },
  {
   "cell_type": "code",
   "execution_count": 7,
   "metadata": {},
   "outputs": [
    {
     "data": {
      "text/markdown": [
       "Gegeben: <br/> $D = 116.1 N/m$; $s= 4.5 cm$<br/>Lösung:<br/>$W = 0.12 J$"
      ],
      "text/plain": [
       "<IPython.core.display.Markdown object>"
      ]
     },
     "execution_count": 7,
     "metadata": {},
     "output_type": "execute_result"
    }
   ],
   "source": [
    "f = pe('3.5 Hz')\n",
    "m = pe('240g')\n",
    "sm = pe('4.5cm')\n",
    "omega = 2 * np.pi * f\n",
    "\n",
    "D = (omega**2 * m).to('N/m')\n",
    "W = (0.5 *D * sm**2).to('J')\n",
    "\n",
    "md(\"Gegeben: <br/>\"\n",
    "+ \" $D = {:.4~P}$\".format(D) \n",
    "+ \"; $s= {:~P}$\".format(sm)  \n",
    "+ \"<br/>Lösung:<br/>\" \n",
    "+ \"$W = {:.2~P}$\".format(W))"
   ]
  },
  {
   "cell_type": "markdown",
   "metadata": {},
   "source": [
    "## Aufgabe 6\n",
    "### a)\n",
    "Für die Pendellänge $l$ ergibt sich:\n",
    "$$l = \\frac{T^{2} g}{4 \\pi^{2}}$$\n"
   ]
  },
  {
   "cell_type": "code",
   "execution_count": 8,
   "metadata": {},
   "outputs": [
    {
     "data": {
      "text/markdown": [
       "Gegeben: <br/> $T = 1 s$<br/>Lösung:<br/>$l = 0.39 m$"
      ],
      "text/plain": [
       "<IPython.core.display.Markdown object>"
      ]
     },
     "execution_count": 8,
     "metadata": {},
     "output_type": "execute_result"
    }
   ],
   "source": [
    "T = pe('1s')\n",
    "\n",
    "l = (T**2 *g /(4 *np.pi*2)).to('m')\n",
    "\n",
    "md(\"Gegeben: <br/>\"\n",
    "+ \" $T = {:~P}$\".format(T) \n",
    "+ \"<br/>Lösung:<br/>\" \n",
    "+ \"$l = {:.2~P}$\".format(l))"
   ]
  },
  {
   "cell_type": "markdown",
   "metadata": {},
   "source": [
    "### b)\n",
    "Für die Periodendauer $T$ folgt:\n",
    "$$T = \\frac{2 \\pi}{\\sqrt{\\frac{g}{l}}}$$"
   ]
  },
  {
   "cell_type": "code",
   "execution_count": 9,
   "metadata": {},
   "outputs": [
    {
     "data": {
      "text/markdown": [
       "Gegeben: <br/> $l = 1 m$<br/>Lösung:<br/>$T = 2.0 s$"
      ],
      "text/plain": [
       "<IPython.core.display.Markdown object>"
      ]
     },
     "execution_count": 9,
     "metadata": {},
     "output_type": "execute_result"
    }
   ],
   "source": [
    "l = pe('1m')\n",
    "\n",
    "T = (2 *np.pi / (np.sqrt(g/l))).to('s')\n",
    "\n",
    "md(\"Gegeben: <br/>\"\n",
    "+ \" $l = {:~P}$\".format(l) \n",
    "+ \"<br/>Lösung:<br/>\" \n",
    "+ \"$T = {:.2~P}$\".format(T))"
   ]
  },
  {
   "cell_type": "markdown",
   "metadata": {},
   "source": [
    "## Aufgabe 7\n",
    "Die Rakete startet mit einer Beschleunigung $a_0$. Auf die Masse des Pendels wird eine Netto-Beschleunigung $a = a_0 + g$. Die Periodendauer $T$ ergibt sich:\n",
    "$$T = \\frac{2 \\pi}{\\sqrt{\\frac{a}{l}}}$$"
   ]
  },
  {
   "cell_type": "code",
   "execution_count": 10,
   "metadata": {},
   "outputs": [
    {
     "data": {
      "text/markdown": [
       "Gegeben: <br/> $l = 73 cm$; $a_0 = 2.4 m/s²$<br/>Lösung:<br/>$T = 1.5 s$"
      ],
      "text/plain": [
       "<IPython.core.display.Markdown object>"
      ]
     },
     "execution_count": 10,
     "metadata": {},
     "output_type": "execute_result"
    }
   ],
   "source": [
    "l = pe('73cm')\n",
    "a_0 = pe('2.4m/s^2')\n",
    "\n",
    "T = (2 *np.pi / (np.sqrt((a_0+g)/l))).to('s')\n",
    "\n",
    "md(\"Gegeben: <br/>\"\n",
    "+ \" $l = {:~P}$\".format(l) \n",
    "+ \"; $a_0 = {:~P}$\".format(a_0) \n",
    "+ \"<br/>Lösung:<br/>\" \n",
    "+ \"$T = {:.2~P}$\".format(T))"
   ]
  },
  {
   "cell_type": "markdown",
   "metadata": {},
   "source": [
    "## Aufgabe 8\n",
    "### a)\n",
    "Die kinetische Energie der Kiste ist gleich der maximalen Spannenergie der Feder:\n",
    "$$\\begin{eqnarray}\n",
    "\\frac{1}{2} m v_0^2 &=& \\frac{1}{2} D \\hat{s}^2 \\\\\n",
    "v_0 &=& \\hat{s} \\sqrt{\\frac{D}{m}}\n",
    "\\end{eqnarray}$$"
   ]
  },
  {
   "cell_type": "code",
   "execution_count": 11,
   "metadata": {},
   "outputs": [
    {
     "data": {
      "text/markdown": [
       "Gegeben: <br/> $s = 24 cm$; $D = 310.0 N/m$; $m = 5 kg$<br/>Lösung:<br/>$v_0 = 1.9 m/s$"
      ],
      "text/plain": [
       "<IPython.core.display.Markdown object>"
      ]
     },
     "execution_count": 11,
     "metadata": {},
     "output_type": "execute_result"
    }
   ],
   "source": [
    "s = pe('24cm')\n",
    "D = pe('310N/m')\n",
    "m = pe('5kg')\n",
    "\n",
    "v = (s*np.sqrt(D/m)).to('m/s')\n",
    "\n",
    "md(\"Gegeben: <br/>\"\n",
    "+ \" $s = {:~P}$\".format(s) \n",
    "+ \"; $D = {:~P}$\".format(D)\n",
    "+ \"; $m = {:~P}$\".format(m)\n",
    "+ \"<br/>Lösung:<br/>\" \n",
    "+ \"$v_0 = {:.2~P}$\".format(v))"
   ]
  },
  {
   "cell_type": "markdown",
   "metadata": {},
   "source": [
    "### b)\n",
    "Die Beschleunigung die die Kiste erfährt ist nicht konstant. Vielmehr kann man sich das \"Abprallen\" als eine halbe Schwingung vorstellen. Damit ergibt sich für die Dauer dieses Vorgangs:\n",
    "$$t = \\frac{T}{2} = \\pi \\sqrt{\\frac{m}{D}}$$"
   ]
  },
  {
   "cell_type": "code",
   "execution_count": 12,
   "metadata": {},
   "outputs": [
    {
     "data": {
      "text/markdown": [
       "Gegeben: <br/>$D = 310.0 N/m$; $m = 5 kg$<br/>Lösung:<br/>$t = 0.4 s$"
      ],
      "text/plain": [
       "<IPython.core.display.Markdown object>"
      ]
     },
     "execution_count": 12,
     "metadata": {},
     "output_type": "execute_result"
    }
   ],
   "source": [
    "s = pe('24cm')\n",
    "D = pe('310N/m')\n",
    "m = pe('5kg')\n",
    "\n",
    "v = (s*np.sqrt(D/m)).to('m/s')\n",
    "t = (np.pi * np.sqrt(m/D)).to('s')\n",
    "\n",
    "md(\"Gegeben: <br/>\"\n",
    "+ \"$D = {:~P}$\".format(D)\n",
    "+ \"; $m = {:~P}$\".format(m)\n",
    "+ \"<br/>Lösung:<br/>\" \n",
    "+ \"$t = {:.2~P}$\".format(t))"
   ]
  },
  {
   "cell_type": "markdown",
   "metadata": {},
   "source": [
    "## Aufgabe 9\n",
    "Die Beschleunigung ist bei den Umkehrpunkten (höchster/tiefster Punkt) am größten.\n",
    "$$\\begin{eqnarray}\n",
    "s(t) &=& \\hat{s} \\sin{(\\omega_0 t)} \\\\\n",
    "v(t) &=& \\hat{s} \\omega_0 \\cos{(\\omega_0 t)} \\\\\n",
    "a(t) &=& - \\underbrace{\\hat{s} \\omega_0^2}_{\\hat{a}} \\sin{(\\omega_0 t)}\n",
    "\\end{eqnarray}$$\n",
    "Die größte Beschleunigung muss kleiner als die Erdbeschleunigung sein, damit der Kieselstein den Kontakt zu dem Sprungbrett nicht verliert.\n",
    "$$\\begin{eqnarray}\n",
    "\\hat{s} \\omega_0^2 &<& g \\\\\n",
    "\\hat{s}  &<& \\frac{g}{\\omega_0^2} = \\frac{g}{(2 \\pi f)^2}\\\\\n",
    "\\end{eqnarray}$$"
   ]
  },
  {
   "cell_type": "code",
   "execution_count": 13,
   "metadata": {},
   "outputs": [
    {
     "data": {
      "text/markdown": [
       "Gegeben: <br/>$f = 5 Hz$<br/>Lösung:<br/>$s = 0.99 cm$"
      ],
      "text/plain": [
       "<IPython.core.display.Markdown object>"
      ]
     },
     "execution_count": 13,
     "metadata": {},
     "output_type": "execute_result"
    }
   ],
   "source": [
    "f = pe('5Hz')\n",
    "\n",
    "s = (g/(2*np.pi * f)**2).to('cm')\n",
    "\n",
    "md(\"Gegeben: <br/>\"\n",
    "+ \"$f = {:~P}$\".format(f)\n",
    "+ \"<br/>Lösung:<br/>\" \n",
    "+ \"$s = {:.2~P}$\".format(s))"
   ]
  },
  {
   "cell_type": "markdown",
   "metadata": {},
   "source": [
    "## Aufgabe 10\n",
    "https://www.leifiphysik.de/mechanik/mechanische-schwingungen/aufgabe/galilei-pendel"
   ]
  },
  {
   "cell_type": "markdown",
   "metadata": {},
   "source": [
    "## Aufgabe 11\n",
    "https://www.leifiphysik.de/mechanik/mechanische-schwingungen/aufgabe/halfpipe-verjuengt"
   ]
  },
  {
   "cell_type": "markdown",
   "metadata": {},
   "source": [
    "## Aufgabe 12\n",
    "Für die Schwingungsdauer eines harmonischen Federpendels ist bekannt:\n",
    "$$T = \\frac{2 \\pi}{\\sqrt{\\frac{D}{m}}}$$\n",
    "Dies kann man als eine lineare Funktion darstellen:\n",
    "$$T\\left(\\sqrt{m}\\right) = \\underbrace{\\frac{2 \\pi}{\\sqrt{D}}}_{k} \\cdot \\sqrt{m}$$\n",
    "Aus dem Diagramm wird mit Hilfe einer linearen Regression die Steigung $k$ der Ursprungsgerade bestimmt und danach die Federkonstante $D$ berechnet:\n",
    "$$D = \\left ( \\frac{2 \\pi}{k} \\right )^2$$"
   ]
  },
  {
   "cell_type": "code",
   "execution_count": 14,
   "metadata": {},
   "outputs": [
    {
     "data": {
      "text/markdown": [
       "Gegeben: <br/>$k = 0.95 s/kg⁰.⁵$<br/>Lösung:<br/>$D = 43.7 N/m$"
      ],
      "text/plain": [
       "<IPython.core.display.Markdown object>"
      ]
     },
     "execution_count": 14,
     "metadata": {},
     "output_type": "execute_result"
    },
    {
     "data": {
      "image/png": "[encoded data removed]",
      "text/plain": [
       "<Figure size 900x360 with 1 Axes>"
      ]
     },
     "metadata": {
      "needs_background": "light"
     },
     "output_type": "display_data"
    }
   ],
   "source": [
    "#### random.seed(1234)\n",
    "np.random.seed(1234)\n",
    "pars =  {\n",
    "            'D' : pe('43N/m'),\n",
    "            'm' : np.linspace(1,10,5)*pe('kg'),\n",
    "        }\n",
    "pars['omega'] = np.sqrt(pars['D']/pars['m'])\n",
    "pars['f'] = pars['omega']/(2*np.pi)\n",
    "pars['T'] = (1/pars['f']).to('s')\n",
    "pars['Tu'] = pars['T'] + addnoise(pars['T'],scale=0.1)\n",
    "\n",
    "\n",
    "####\n",
    "\n",
    "fig, ax = plt.subplots(1,1,sharex=True,figsize=tuple(np.array([5,2])*2.5))\n",
    "fig.subplots_adjust(wspace = 0.2,hspace = 0.0)\n",
    "try: ax = list(ax.flatten())\n",
    "except: ax = [ax]\n",
    "\n",
    "X = np.sqrt(pars['m'].to('kg'))\n",
    "Y = pars['Tu'].to('s')\n",
    "Xfit = np.linspace(0,X.m.max())\n",
    "def func(p, x):\n",
    "    a = p\n",
    "    return a * x\n",
    "up , p, Yfit, out = uODR(func,[0],X.m,Y.m,xfit=Xfit)\n",
    "\n",
    "ax[0].plot(X.m,Y.m,'x')#,linestyle='None')\n",
    "ax[0].plot(Xfit,Yfit,'r-')#,linestyle='None')\n",
    "\n",
    "#ax[0].set_xlabel(u'Masse in %s'%(\"{:~P}\".format(X.u)))\n",
    "ax[0].set_xlabel(r'Masse in $\\sqrt{\\mathrm{kg}}$')\n",
    "ax[0].set_ylabel(u'T in %s'%(\"{:~P}\".format(Y.u)))\n",
    "\n",
    "ax[0].xaxis.set_major_locator(plt.MultipleLocator(1))\n",
    "ax[0].yaxis.set_major_locator(plt.MultipleLocator(0.5))\n",
    "ax[0].xaxis.set_minor_locator(plt.MultipleLocator(0.2))\n",
    "ax[0].yaxis.set_minor_locator(plt.MultipleLocator(1))\n",
    "\n",
    "ax[0].grid(True,which='both')\n",
    "lims = ax[0].set_xlim(left=0)\n",
    "lims = ax[0].set_ylim(bottom=0)\n",
    "\n",
    "#fig.savefig('A12_fig1.svg', bbox_inches='tight', pad_inches=0, dpi=400)\n",
    "\n",
    "m = (p[0]*Y.u/X.u).to_base_units()\n",
    "D = ((2*np.pi/m)**2).to('N/m')\n",
    "\n",
    "md(\"Gegeben: <br/>\"\n",
    "+ \"$k = {:.2~P}$\".format(m)\n",
    "+ \"<br/>Lösung:<br/>\" \n",
    "+ \"$D = {:.3~P}$\".format(D))"
   ]
  }
 ],
 "metadata": {
  "kernelspec": {
   "display_name": "Python 3",
   "language": "python",
   "name": "python3"
  },
  "language_info": {
   "codemirror_mode": {
    "name": "ipython",
    "version": 3
   },
   "file_extension": ".py",
   "mimetype": "text/x-python",
   "name": "python",
   "nbconvert_exporter": "python",
   "pygments_lexer": "ipython3",
   "version": "3.7.3"
  }
 },
 "nbformat": 4,
 "nbformat_minor": 2
}
