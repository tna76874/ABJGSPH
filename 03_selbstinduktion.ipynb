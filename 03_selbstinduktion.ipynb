{
 "cells": [
  {
   "cell_type": "code",
   "execution_count": 1,
   "metadata": {},
   "outputs": [],
   "source": [
    "from __future__ import division\n",
    "from IPython.display import display\n",
    "from IPython.display import Markdown as md\n",
    "from IPython.core.display import SVG\n",
    "from sympy.interactive import printing\n",
    "printing.init_printing(use_latex='mathjax')\n",
    "\n",
    "import pandas as pd\n",
    "import numpy as np\n",
    "\n",
    "import sympy as sp\n",
    "sf = sp.sympify\n",
    "\n",
    "import scipy.constants as cm\n",
    "import pint as pn\n",
    "ureg = pn.UnitRegistry(system='mks')\n",
    "ureg.default_format = '~P'\n",
    "pe = ureg.parse_expression\n",
    "\n",
    "## Konstanten und Einheiten\n",
    "CM = pd.DataFrame(cm.physical_constants).T\n",
    "CM['c'] = CM.index\n",
    "CM = CM.reset_index(drop=True)\n",
    "def getpc(quant):\n",
    "    DF = CM\n",
    "    DF = DF[DF['c']==quant].reset_index(drop=True)\n",
    "    quan = DF[0][0] * ureg(DF[1][0])\n",
    "    return quan"
   ]
  },
  {
   "cell_type": "code",
   "execution_count": 2,
   "metadata": {},
   "outputs": [],
   "source": [
    "g = getpc('standard acceleration of gravity')\n",
    "m_e = getpc('electron mass')\n",
    "e = getpc('elementary charge')\n",
    "c = getpc('speed of light in vacuum')\n",
    "e0 = getpc('electric constant')\n",
    "mu0 = getpc('mag. constant')"
   ]
  },
  {
   "cell_type": "code",
   "execution_count": 3,
   "metadata": {},
   "outputs": [
    {
     "data": {
      "text/html": [
       "<script>\n",
       "code_show=true; \n",
       "function code_toggle() {\n",
       " if (code_show){\n",
       " $('div.input').hide();\n",
       " } else {\n",
       " $('div.input').show();\n",
       " }\n",
       " code_show = !code_show\n",
       "} \n",
       "$( document ).ready(code_toggle);\n",
       "</script>\n",
       "<form action=\"javascript:code_toggle()\"><input type=\"submit\" value=\"Quellcode an/aus schalten.\"></form>"
      ],
      "text/plain": [
       "<IPython.core.display.HTML object>"
      ]
     },
     "execution_count": 3,
     "metadata": {},
     "output_type": "execute_result"
    }
   ],
   "source": [
    "from IPython.display import HTML\n",
    "\n",
    "HTML('''<script>\n",
    "code_show=true; \n",
    "function code_toggle() {\n",
    " if (code_show){\n",
    " $('div.input').hide();\n",
    " } else {\n",
    " $('div.input').show();\n",
    " }\n",
    " code_show = !code_show\n",
    "} \n",
    "$( document ).ready(code_toggle);\n",
    "</script>\n",
    "<form action=\"javascript:code_toggle()\"><input type=\"submit\" value=\"Quellcode an/aus schalten.\"></form>''')"
   ]
  },
  {
   "cell_type": "markdown",
   "metadata": {},
   "source": [
    "# AB Selbstinduktion\n",
    "### a)\n",
    "Nach Schließen des Schalters S setzt ein Stromfluss durch die Spule ein. In der Spule wird eine Spannung induziert, die so gerichtet ist, dass der Stromanstieg verzögert wird. Die Stromstärke erreicht erst nach einiger Zeit ihren Maximalwert.\n",
    "\n",
    "### b)\n",
    "Aus der Zeichnung ergibt sich für große $t$ die Stromstärke $I_{\\mathrm{max}}$. Die angelegte Spannung ist damit:\n",
    "$$\\begin{eqnarray}\n",
    "U_0 &=& R \\cdot I_{\\mathrm{max}}\n",
    "\\end{eqnarray}$$"
   ]
  },
  {
   "cell_type": "code",
   "execution_count": 4,
   "metadata": {},
   "outputs": [
    {
     "data": {
      "text/markdown": [
       "Gegeben: <br/> $I_{max} = 6.25 mA$; $R = 1200 Ω$<br/>Lösung:<br/>$U_0 = 7.5 V$"
      ],
      "text/plain": [
       "<IPython.core.display.Markdown object>"
      ]
     },
     "execution_count": 4,
     "metadata": {},
     "output_type": "execute_result"
    }
   ],
   "source": [
    "R = pe('1200ohm')\n",
    "l = pe('1m')\n",
    "A = pe('125cm^2')\n",
    "n = pe('20000')\n",
    "Imax = pe('6.25mA')\n",
    "\n",
    "U0 = (R*Imax).to('V')\n",
    "\n",
    "md(\"Gegeben: <br/>\"\n",
    "+ \" $I_{{max}} = {:~P}$\".format(Imax) \n",
    "+ \"; $R = {:~P}$\".format(R) \n",
    "+ \"<br/>Lösung:<br/>\" \n",
    "+ \"$U_0 = {:.3~P}$\".format(U0))"
   ]
  },
  {
   "cell_type": "markdown",
   "metadata": {},
   "source": [
    "### c)\n",
    "Für die Eigeninduktivität der langen Spule gilt:\n",
    "$$\\begin{eqnarray}\n",
    "L &=& \\mu_0 \\cdot \\frac{n^2}{l} \\cdot A\n",
    "\\end{eqnarray}$$"
   ]
  },
  {
   "cell_type": "code",
   "execution_count": 5,
   "metadata": {},
   "outputs": [
    {
     "data": {
      "text/markdown": [
       "Gegeben: <br/> $A = 125 cm²$; $l = 1 m$; $n = 20000$<br/>Lösung:<br/>$L = 6.28 H$"
      ],
      "text/plain": [
       "<IPython.core.display.Markdown object>"
      ]
     },
     "execution_count": 5,
     "metadata": {},
     "output_type": "execute_result"
    }
   ],
   "source": [
    "L = (mu0 * n**2/l*A).to('H')\n",
    "\n",
    "md(\"Gegeben: <br/>\"\n",
    "+ \" $A = {:~P}$\".format(A) \n",
    "+ \"; $l = {:~P}$\".format(l)\n",
    "+ \"; $n = {:}$\".format(n)\n",
    "+ \"<br/>Lösung:<br/>\" \n",
    "+ \"$L = {:.3~P}$\".format(L))"
   ]
  },
  {
   "cell_type": "markdown",
   "metadata": {},
   "source": [
    "### d)\n",
    "Zur Bestimmung der Induktivität $L$ mit Hilfe des Stromstärkeverlaufes gibt es mehere Möglichkeiten:\n",
    "#### Änderung der Stromstärke bei $t\\approx0$\n",
    "\n",
    "Der Zusammenhang zwischen induzierter Spannung und Stromstärke ist bekannt:\n",
    "$$\\begin{eqnarray}\n",
    "|U_{\\mathrm{ind}}| &=& L \\cdot\\dot{I}\n",
    "\\end{eqnarray}$$\n",
    "Zu Beginn der Messung bei $t\\approx0$ wird durch die Induktionsspannung der Spule die der Spannungsquelle vollständig ausgeglichen. Wenn man die Änderung (Tangentensteigung) der Stromstärke zu Beginn $\\dot{I}(0)$ abließt dann ergibt sich für die Induktivität:\n",
    "$$\\begin{eqnarray}\n",
    "L &=& U_0 \\cdot\\dot{I}(0)\n",
    "\\end{eqnarray}$$"
   ]
  },
  {
   "cell_type": "code",
   "execution_count": 6,
   "metadata": {},
   "outputs": [
    {
     "data": {
      "text/markdown": [
       "Gegeben: <br/> $\\dot{I}(0) = 1.0 mA/ms$<br/>Lösung:<br/>$L = 7.5 H$"
      ],
      "text/plain": [
       "<IPython.core.display.Markdown object>"
      ]
     },
     "execution_count": 6,
     "metadata": {},
     "output_type": "execute_result"
    }
   ],
   "source": [
    "dI = pe('5mA')/pe('5ms')\n",
    "\n",
    "L_2 = (U0/dI).to('H')\n",
    "\n",
    "\n",
    "md(\"Gegeben: <br/>\"\n",
    "+ \" $\\dot{{I}}(0) = {:~P}$\".format(dI) \n",
    "+ \"<br/>Lösung:<br/>\" \n",
    "+ \"$L = {:.3~P}$\".format(L_2))"
   ]
  },
  {
   "cell_type": "markdown",
   "metadata": {},
   "source": [
    "#### Funktionsgleichung\n",
    "Für den zeitlichen Verlauf der Stromstärke bei einem **Einschaltvorgang** einer Spule ist bekann:\n",
    "$$\\begin{eqnarray}\n",
    "I(t) &=& I_{\\mathrm{max}} - I_{\\mathrm{max}}\\cdot e^{-\\frac{R}{L}t}\n",
    "\\end{eqnarray}$$\n",
    "Bei bekanntem Widerstand $R$ kann man den Exponenten der Exponentialfunktion bestimmen, indem man die Stromstärke an zwei beliebigen Punkten die die Zeit $t'$ auseinanderliegen bestimmen. Am einfachsten wählt man von $t=0$ bis zu dem Zeitpunkt, an dem die Stromstärke auf die Hälfte ihres maximalen Wertes angewachsen ist.\n",
    "$$\\begin{eqnarray}\n",
    "\\tau &=& \\frac{L}{R}\\cdot \\ln(2) \\\\\n",
    "L &=& \\frac{\\tau \\cdot R}{\\ln(2)}\n",
    "\\end{eqnarray}$$\n",
    "Die genaueste Bestimmung der Induktivität wäre durch einen Fit der Messdaten an die Theoriekurve möglich."
   ]
  },
  {
   "cell_type": "code",
   "execution_count": 7,
   "metadata": {},
   "outputs": [
    {
     "data": {
      "text/markdown": [
       "Gegeben: <br/> $\\tau = 4 ms$<br/>Lösung:<br/>$L = 6.92 H$"
      ],
      "text/plain": [
       "<IPython.core.display.Markdown object>"
      ]
     },
     "execution_count": 7,
     "metadata": {},
     "output_type": "execute_result"
    }
   ],
   "source": [
    "tau = pe('4ms')\n",
    "\n",
    "L_3 = (tau*R/np.log(2)).to('H')\n",
    "\n",
    "md(\"Gegeben: <br/>\"\n",
    "+ \" $\\\\tau = {:~P}$\".format(tau) \n",
    "+ \"<br/>Lösung:<br/>\" \n",
    "+ \"$L = {:.3~P}$\".format(L_3))"
   ]
  },
  {
   "cell_type": "code",
   "execution_count": 8,
   "metadata": {},
   "outputs": [],
   "source": [
    "#<img style=\"float: middle;\" height=\"200\" width=\"200\" src=\"material/comingsoon.jpg\">"
   ]
  },
  {
   "cell_type": "code",
   "execution_count": null,
   "metadata": {},
   "outputs": [],
   "source": []
  }
 ],
 "metadata": {
  "kernelspec": {
   "display_name": "Python 3",
   "language": "python",
   "name": "python3"
  },
  "language_info": {
   "codemirror_mode": {
    "name": "ipython",
    "version": 3
   },
   "file_extension": ".py",
   "mimetype": "text/x-python",
   "name": "python",
   "nbconvert_exporter": "python",
   "pygments_lexer": "ipython3",
   "version": "3.6.5"
  }
 },
 "nbformat": 4,
 "nbformat_minor": 2
}
