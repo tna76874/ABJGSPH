{
 "cells": [
  {
   "cell_type": "code",
   "execution_count": 1,
   "metadata": {},
   "outputs": [],
   "source": [
    "from __future__ import division\n",
    "from IPython.display import display\n",
    "from IPython.display import Markdown as md\n",
    "from IPython.core.display import SVG\n",
    "from sympy.interactive import printing\n",
    "printing.init_printing(use_latex='mathjax')\n",
    "\n",
    "import pandas as pd\n",
    "import numpy as np\n",
    "\n",
    "import sympy as sp\n",
    "sf = sp.sympify\n",
    "\n",
    "import scipy.constants as cm\n",
    "import pint as pn\n",
    "ureg = pn.UnitRegistry(system='mks')\n",
    "ureg.default_format = '~P'\n",
    "pe = ureg.parse_expression\n",
    "\n",
    "## Konstanten und Einheiten\n",
    "CM = pd.DataFrame(cm.physical_constants).T\n",
    "CM['c'] = CM.index\n",
    "CM = CM.reset_index(drop=True)\n",
    "def getpc(quant):\n",
    "    DF = CM\n",
    "    DF = DF[DF['c']==quant].reset_index(drop=True)\n",
    "    quan = DF[0][0] * ureg(DF[1][0])\n",
    "    return quan"
   ]
  },
  {
   "cell_type": "code",
   "execution_count": 2,
   "metadata": {},
   "outputs": [],
   "source": [
    "g = getpc('standard acceleration of gravity')\n",
    "m_e = getpc('electron mass')\n",
    "e = getpc('elementary charge')\n",
    "c = getpc('speed of light in vacuum')\n",
    "e0 = getpc('electric constant')\n",
    "mu0 = getpc('mag. constant')"
   ]
  },
  {
   "cell_type": "code",
   "execution_count": 3,
   "metadata": {},
   "outputs": [
    {
     "data": {
      "text/html": [
       "<script>\n",
       "code_show=true; \n",
       "function code_toggle() {\n",
       " if (code_show){\n",
       " $('div.input').hide();\n",
       " } else {\n",
       " $('div.input').show();\n",
       " }\n",
       " code_show = !code_show\n",
       "} \n",
       "$( document ).ready(code_toggle);\n",
       "</script>\n",
       "<form action=\"javascript:code_toggle()\"><input type=\"submit\" value=\"Quellcode an/aus schalten.\"></form>"
      ],
      "text/plain": [
       "<IPython.core.display.HTML object>"
      ]
     },
     "execution_count": 3,
     "metadata": {},
     "output_type": "execute_result"
    }
   ],
   "source": [
    "from IPython.display import HTML\n",
    "\n",
    "HTML('''<script>\n",
    "code_show=true; \n",
    "function code_toggle() {\n",
    " if (code_show){\n",
    " $('div.input').hide();\n",
    " } else {\n",
    " $('div.input').show();\n",
    " }\n",
    " code_show = !code_show\n",
    "} \n",
    "$( document ).ready(code_toggle);\n",
    "</script>\n",
    "<form action=\"javascript:code_toggle()\"><input type=\"submit\" value=\"Quellcode an/aus schalten.\"></form>''')"
   ]
  },
  {
   "cell_type": "markdown",
   "metadata": {},
   "source": [
    "# Übungen Schwingungen\n",
    "## Aufgabe 1\n",
    "https://www.leifiphysik.de/mechanik/mechanische-schwingungen/aufgabe/daten-einer-schwingung"
   ]
  },
  {
   "cell_type": "markdown",
   "metadata": {},
   "source": [
    "## Aufgabe 2\n",
    "https://www.leifiphysik.de/mechanik/mechanische-schwingungen/aufgabe/schwimmer-der-angel"
   ]
  },
  {
   "cell_type": "markdown",
   "metadata": {},
   "source": [
    "## Aufgabe 3\n",
    "https://www.leifiphysik.de/mechanik/mechanische-schwingungen/aufgabe/britischer-geologe"
   ]
  },
  {
   "cell_type": "markdown",
   "metadata": {},
   "source": [
    "## Aufgabe 4\n",
    "### a)\n",
    "Wird die Kette um $\\Delta h$ aus der Gleichgewichtslage ausgelenkt, dann kann man die Kette gedanklich in zwei Teile aufteilen: Der untere Teil (grün) ist kräftefrei und für sich selber im Gleichgewicht. Die Kraft die auf den unteren Teil wirkt, ist die Gewichtskraft des darüberliegenden Kettenstücks (rot). Mathematisieren kann man diesen Sachverhalt, indem man $x$ als die Auslenkung eines Endes der Kette (blau) festlegt. Für die Rückstellkraft $F_{\\mathrm{Rückstell}}$ ergibt sich:\n",
    "$$F_{\\mathrm{Rückstell}} = F_G = m \\cdot g = \\frac{m_0}{l}\\cdot  (2 \\Delta h) \\cdot g = \\frac{2 m_0 g}{l}\\cdot x$$\n",
    "Die Rückstellkraft ist proportional zur Auslenkung aus der Gleichgewichtslage. Damit ist die Vorraussetzung (hinreichend und notwendig) für eine harmonische Schwingung erfüllt. Für die Differentialgleichung ergibt sich:\n",
    "$$\\begin{eqnarray}\n",
    "{-}\\underbrace{\\frac{2 m_0 g}{l}}_{D}\\cdot x &=& m_0 \\cdot \\ddot{x}\n",
    "\\end{eqnarray}$$\n",
    "Die Eigenfrequenz dieser Schwingung (ungedämpft) ist dann: \n",
    "$$\\begin{eqnarray}\n",
    "\\omega_0 &=& \\sqrt{\\tfrac{D}{m_0}} = \\sqrt{\\tfrac{2 g}{l}} \\\\\n",
    "f_0 &=& \\frac{\\omega_0}{2 \\pi} = \\frac{\\sqrt{\\tfrac{2 g}{l}}}{2 \\pi} \\\\\n",
    "T &=& \\frac{1}{f_0}=\\frac{2 \\pi}{\\sqrt{\\tfrac{2 g}{l}}}\n",
    "\\end{eqnarray}$$\n",
    "\n",
    "Interessanterweise ist die Frequenz der Schwingung hier komplett unabhängig von dem Gesamtgewicht $m_0$ der Kette.\n",
    "\n",
    "Allgemein gilt:\n",
    "\n",
    "$$\\begin{eqnarray}\n",
    "s(t) &=& \\hat{s} \\sin{(\\omega_0 t)} \\\\\n",
    "v(t) &=& \\underbrace{\\hat{s} \\omega_0}_{\\hat{v}} \\cos{(\\omega_0 t)} \\\\\n",
    "a(t) &=& - \\underbrace{\\hat{s} \\omega_0^2}_{\\hat{a}} \\sin{(\\omega_0 t)}\n",
    "\\end{eqnarray}$$\n",
    "\n",
    "Für die Maximalgeschwindigkeit gilt also $v_{\\mathrm{max}} = \\hat{v} = \\hat{s} \\cdot \\omega_0$ mit der Anfangsauslenkung $s_0 = \\hat{s}$.\n",
    "\n",
    "<img style=\"float: middle;\" height=\"600\" width=\"600\" src=\"material/05_schwingungen_4.svg\">"
   ]
  },
  {
   "cell_type": "code",
   "execution_count": 4,
   "metadata": {},
   "outputs": [
    {
     "data": {
      "text/markdown": [
       "Gegeben: <br/> $l = 60 cm$; $\\hat{s} = 10 cm$<br/>Lösung:<br/>$\\omega_0 \\approx 5.7 Hz$; $T \\approx 1.1 s$; $\\hat{v} \\approx 0.57 m/s$"
      ],
      "text/plain": [
       "<IPython.core.display.Markdown object>"
      ]
     },
     "execution_count": 4,
     "metadata": {},
     "output_type": "execute_result"
    }
   ],
   "source": [
    "m_0 = pe('600g')\n",
    "l = pe('60cm')\n",
    "s_d = pe('10cm')\n",
    "\n",
    "omega_0 = (np.sqrt(2* g/l)).to('Hz')\n",
    "f_0 = omega_0/(2 * np.pi)\n",
    "T = (1/(f_0)).to('s')\n",
    "v_d = (s_d * omega_0).to('m/s')\n",
    "\n",
    "md(\"Gegeben: <br/>\"\n",
    "+ \" $l = {:~P}$\".format(l)  \n",
    "+ \"; $\\\\hat{{s}} = {:~P}$\".format(s_d) \n",
    "+ \"<br/>Lösung:<br/>\" \n",
    "+ \"$\\\\omega_0 \\\\approx {:.2~P}$\".format(omega_0)\n",
    "+ \"; $T \\\\approx {:.2~P}$\".format(T)\n",
    "+ \"; $\\\\hat{{v}} \\\\approx {:.2~P}$\".format(v_d))"
   ]
  },
  {
   "cell_type": "markdown",
   "metadata": {},
   "source": [
    "### b)\n",
    "Wenn man die Kette soweit hochhebt, dass es keinen Teil der Kette gibt der für sich genommen kräftefrei ist (grün), dann ist die Rückstellkraft auf das Ende der Kette (blau) konstant und nicht mehr proportional zu der Auslenkung von der Gleichgewichtslage. Damit führt die Kette in diesem Bereich keine harmonische Schwingung durch. "
   ]
  },
  {
   "cell_type": "markdown",
   "metadata": {},
   "source": [
    "## Aufgabe 5\n",
    "https://www.leifiphysik.de/mechanik/mechanische-schwingungen/aufgabe/bungeespringer"
   ]
  },
  {
   "cell_type": "markdown",
   "metadata": {},
   "source": [
    "## Aufgabe 6\n",
    "https://www.leifiphysik.de/mechanik/mechanische-schwingungen/aufgabe/feder-rollen-kombination"
   ]
  },
  {
   "cell_type": "code",
   "execution_count": null,
   "metadata": {},
   "outputs": [],
   "source": []
  }
 ],
 "metadata": {
  "kernelspec": {
   "display_name": "Python 3",
   "language": "python",
   "name": "python3"
  },
  "language_info": {
   "codemirror_mode": {
    "name": "ipython",
    "version": 3
   },
   "file_extension": ".py",
   "mimetype": "text/x-python",
   "name": "python",
   "nbconvert_exporter": "python",
   "pygments_lexer": "ipython3",
   "version": "3.7.3"
  }
 },
 "nbformat": 4,
 "nbformat_minor": 2
}
