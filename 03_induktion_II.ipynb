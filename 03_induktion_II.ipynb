{
 "cells": [
  {
   "cell_type": "code",
   "execution_count": 1,
   "metadata": {},
   "outputs": [],
   "source": [
    "from __future__ import division\n",
    "from IPython.display import display\n",
    "from IPython.display import Markdown as md\n",
    "from IPython.core.display import SVG\n",
    "from sympy.interactive import printing\n",
    "printing.init_printing(use_latex='mathjax')\n",
    "\n",
    "import pandas as pd\n",
    "import numpy as np\n",
    "\n",
    "import sympy as sp\n",
    "sf = sp.sympify\n",
    "\n",
    "import scipy.constants as cm\n",
    "import pint as pn\n",
    "ureg = pn.UnitRegistry(system='mks')\n",
    "ureg.default_format = '~P'\n",
    "pe = ureg.parse_expression\n",
    "\n",
    "## Konstanten und Einheiten\n",
    "CM = pd.DataFrame(cm.physical_constants).T\n",
    "CM['c'] = CM.index\n",
    "CM = CM.reset_index(drop=True)\n",
    "def getpc(quant):\n",
    "    DF = CM\n",
    "    DF = DF[DF['c']==quant].reset_index(drop=True)\n",
    "    quan = DF[0][0] * ureg(DF[1][0])\n",
    "    return quan"
   ]
  },
  {
   "cell_type": "code",
   "execution_count": 2,
   "metadata": {},
   "outputs": [],
   "source": [
    "g = getpc('standard acceleration of gravity')\n",
    "m_e = getpc('electron mass')\n",
    "e = getpc('elementary charge')\n",
    "c = getpc('speed of light in vacuum')\n",
    "e0 = getpc('electric constant')\n",
    "mu0 = getpc('mag. constant')"
   ]
  },
  {
   "cell_type": "code",
   "execution_count": 3,
   "metadata": {},
   "outputs": [
    {
     "data": {
      "text/html": [
       "<script>\n",
       "code_show=true; \n",
       "function code_toggle() {\n",
       " if (code_show){\n",
       " $('div.input').hide();\n",
       " } else {\n",
       " $('div.input').show();\n",
       " }\n",
       " code_show = !code_show\n",
       "} \n",
       "$( document ).ready(code_toggle);\n",
       "</script>\n",
       "<form action=\"javascript:code_toggle()\"><input type=\"submit\" value=\"Quellcode an/aus schalten.\"></form>"
      ],
      "text/plain": [
       "<IPython.core.display.HTML object>"
      ]
     },
     "execution_count": 3,
     "metadata": {},
     "output_type": "execute_result"
    }
   ],
   "source": [
    "from IPython.display import HTML\n",
    "\n",
    "HTML('''<script>\n",
    "code_show=true; \n",
    "function code_toggle() {\n",
    " if (code_show){\n",
    " $('div.input').hide();\n",
    " } else {\n",
    " $('div.input').show();\n",
    " }\n",
    " code_show = !code_show\n",
    "} \n",
    "$( document ).ready(code_toggle);\n",
    "</script>\n",
    "<form action=\"javascript:code_toggle()\"><input type=\"submit\" value=\"Quellcode an/aus schalten.\"></form>''')"
   ]
  },
  {
   "cell_type": "markdown",
   "metadata": {},
   "source": [
    "# AB Induktion Übungen II\n",
    "## Aufgabe 1"
   ]
  },
  {
   "cell_type": "code",
   "execution_count": 4,
   "metadata": {},
   "outputs": [
    {
     "data": {
      "text/markdown": [
       "Gegeben: <br/> $l = 50 cm$; $n_1 = 500$; $n_2 = 16000$"
      ],
      "text/plain": [
       "<IPython.core.display.Markdown object>"
      ]
     },
     "execution_count": 4,
     "metadata": {},
     "output_type": "execute_result"
    }
   ],
   "source": [
    "n_1 = pe('500')\n",
    "s = pe('5.2cm')\n",
    "\n",
    "n_2 = pe('16000')\n",
    "l = pe('50cm')\n",
    "\n",
    "md(\"Gegeben: <br/>\" + \" $l = {:}$\".format(l) + \"; $n_1 = {:}$\".format(n_1)+ \"; $n_2 = {:}$\".format(n_2))"
   ]
  },
  {
   "cell_type": "markdown",
   "metadata": {},
   "source": [
    "### a)\n",
    "Der Strom ist gegeben, der durch die felderzeugende lange Spule fließt und die Geschwindigkeit $v$, mit der die Leiterschlaufe aus dem konstanten Magnetfeld gezogen wird.\n",
    "$$B = \\mu_0 \\cdot \\frac{n_2 I_2}{l}$$\n",
    "Rechts ist die Leiterschlaufe $-$ und links $+$ gepolt."
   ]
  },
  {
   "cell_type": "code",
   "execution_count": 5,
   "metadata": {},
   "outputs": [
    {
     "data": {
      "text/markdown": [
       "Gegeben: <br/> $I_2 = 120 mA$; $v = 4.0 mm/s$<br/>Ergebnis:<br/>$B = 4.8 mT$"
      ],
      "text/plain": [
       "<IPython.core.display.Markdown object>"
      ]
     },
     "execution_count": 5,
     "metadata": {},
     "output_type": "execute_result"
    }
   ],
   "source": [
    "v = pe('4mm/s')\n",
    "I_2 = pe('120mA')\n",
    "\n",
    "B = (mu0 * n_2 * I_2 / l).to('mT')\n",
    "\n",
    "md(\"Gegeben: <br/>\" + \" $I_2 = {:}$\".format(I_2) + \"; $v = {:}$\".format(v) + \"<br/>Ergebnis:<br/>\" + \"$B = {:.2~P}$\".format(B))"
   ]
  },
  {
   "cell_type": "markdown",
   "metadata": {},
   "source": [
    "### b)\n",
    "Die Fläche der Leiterschlaufe $A = s \\cdot h$ ist konstant. Die Induktionsspannung $U_{\\mathrm{ind}} = n_1 \\cdot |\\dot{\\Phi}| = n_1 \\cdot A \\cdot \\frac{\\Delta B}{\\Delta t}$ soll genauso groß sein wie aus Teilaufgabe a): $U_{\\mathrm{ind}} = n_1 \\cdot B \\cdot \\frac{\\Delta A}{\\Delta t}  = n_1 \\cdot B \\cdot s \\cdot v$. Damit folgt:\n",
    "\n",
    "$$\\frac{\\Delta B}{\\Delta t} = \\frac{U_{\\mathrm{ind}}}{n_1 \\cdot A}$$"
   ]
  },
  {
   "cell_type": "code",
   "execution_count": 6,
   "metadata": {},
   "outputs": [
    {
     "data": {
      "text/markdown": [
       "Gegeben: <br/> $h = 3.2 cm$; $A = 16.6 cm²$<br/>Ergebnis:<br/>$U_{ind} = 0.5 mV$; $\\Delta B / \\Delta t = 0.6 mT/s$"
      ],
      "text/plain": [
       "<IPython.core.display.Markdown object>"
      ]
     },
     "execution_count": 6,
     "metadata": {},
     "output_type": "execute_result"
    }
   ],
   "source": [
    "h = pe('3.2cm')\n",
    "A = s * h\n",
    "Uind = (n_1 * B * s * v).to('mV')\n",
    "dBdt = ((Uind)/(n_1*A)).to('mT / s')\n",
    "\n",
    "md(\"Gegeben: <br/>\" + \" $h = {:}$\".format(h) + \"; $A = {:.3~P}$\".format(A) + \"<br/>Ergebnis:<br/>\" \n",
    "+ \"$U_{{ind}} = {:.2~P}$\".format(Uind)\n",
    "+ \"; $\\Delta B / \\Delta t = {:.2~P}$\".format(dBdt))"
   ]
  },
  {
   "cell_type": "markdown",
   "metadata": {},
   "source": [
    "### c)\n",
    "Die Fläche der Leiterschlaufe ändert sich mit der konstanten Geschwindigkeit von $\\frac{\\Delta A}{\\Delta t} = s \\cdot v$. Nach der Zeit $t$ ist die Anfangsfläche $A_0 = s \\cdot h$ verkleinert. Damit folgt $A(t) = A_0 - s\\cdot v\\cdot t = s\\cdot h - s\\cdot v\\cdot t$. Da keine Induktionsspannung gemessen werden soll, darf sich der magnetische Fluss $\\Phi = B(t)\\cdot A(t)$ nicht ändern. Diese unveränderliche Größe kann man zu Beginn des Vorgangens ausrechnen, da die Fläche und die magnetische Flussdichte $B(0) = \\mu_0 \\cdot \\frac{n_2 I_2}{l}$ bekannt ist."
   ]
  },
  {
   "cell_type": "code",
   "execution_count": 7,
   "metadata": {},
   "outputs": [
    {
     "data": {
      "text/markdown": [
       "Gegeben: <br/> $v = 4.0 mm/s$; $A_0 = 16.64 cm²$; $I_2 = 120 mA$<br/>Ergebnis:<br/>$B_0 = 4.8 mT$, $\\Phi = 8.0 T·mm²$"
      ],
      "text/plain": [
       "<IPython.core.display.Markdown object>"
      ]
     },
     "execution_count": 7,
     "metadata": {},
     "output_type": "execute_result"
    }
   ],
   "source": [
    "v = pe('4mm/s')\n",
    "A_0 = s * h\n",
    "I_2 = pe('120mA')\n",
    "B0 = (mu0 * n_2 * I_2 / l).to('mT')\n",
    "Phi = (A_0 * B0).to('T*mm^2')\n",
    "\n",
    "md(\"Gegeben: <br/>\" + \" $v = {:}$\".format(v) + \"; $A_0 = {:}$\".format(A_0)\n",
    "+ \"; $I_2 = {:}$\".format(I_2)\n",
    "+ \"<br/>Ergebnis:<br/>\" \n",
    "+ \"$B_0 = {:.2~P}$\".format(B0)\n",
    "+ \", $\\Phi = {:.2~P}$\".format(Phi))"
   ]
  },
  {
   "cell_type": "markdown",
   "metadata": {},
   "source": [
    "Da sich der Fluss nicht ändern darf um keine Induktionsspannung zu erzeugen, folgt für die magnetische Flussdichte und für die Stromstärke durch die lange Spule:\n",
    "$$\\begin{eqnarray}\n",
    "B(t) &=& \\frac{\\Phi}{A(t)} \\\\\n",
    "&=& \\frac{\\Phi}{A_0 - v \\cdot t \\cdot s} \\\\\n",
    "I(t) &=& \\frac{B(t) \\cdot l}{n_2 \\cdot \\mu_0} = \\frac{\\Phi \\cdot l}{(A_0 - v \\cdot t \\cdot s) \\cdot n_2 \\cdot \\mu_0}\n",
    "\\end{eqnarray}$$"
   ]
  },
  {
   "cell_type": "code",
   "execution_count": 8,
   "metadata": {},
   "outputs": [
    {
     "data": {
      "text/markdown": [
       "Gegeben: <br/> $t = 7 s$<br/>Lösung:<br/>$I_2(t) = 0.96 A$"
      ],
      "text/plain": [
       "<IPython.core.display.Markdown object>"
      ]
     },
     "execution_count": 8,
     "metadata": {},
     "output_type": "execute_result"
    }
   ],
   "source": [
    "t = pe('7s')\n",
    "It_2 = (Phi * l / ((A_0-v*t*s)*n_2*mu0)).to('A')\n",
    "md(\"Gegeben: <br/>\"\n",
    "+ \" $t = {:}$\".format(t) \n",
    "+ \"<br/>Lösung:<br/>\" \n",
    "+ \"$I_2(t) = {:.2~P}$\".format(It_2))"
   ]
  },
  {
   "cell_type": "markdown",
   "metadata": {},
   "source": [
    "Wenn die Leiterschlaufe fast aus dem Magnetfeld ausgetreten ist, müsste die Stromstärke sehr sehr stark anwachsen um den magnetischen Fluss konstant zu halten. Da dies nicht umsetzbar ist, wird am Ende eine Induktionsspannung gemessen."
   ]
  },
  {
   "cell_type": "markdown",
   "metadata": {},
   "source": [
    "**Alternative Lösung mit Hilfe einer Differentialgleichung**\n",
    "\n",
    "\n",
    "Damit keine Induktionsspannung entsteht, muss der Anteil der Induktionsspannung, der von der Flächenänderung bei festem Magnetfeld $\\dot{A} \\cdot B$ stammt, den Anteil ausgleichen der durch die Magnetfeldänderung bei fester Fläche $\\dot{B} \\cdot A$ entsteht.\n",
    "$$\\begin{eqnarray}\n",
    "U_{\\mathrm{ind}} = n_1 \\cdot |\\dot{\\Phi}| &=& 0\\\\\n",
    "\\dot{(B\\cdot A)} &=& 0 \\\\\n",
    "\\dot{B}\\cdot A + \\dot{A}\\cdot B &=& 0 \\\\\n",
    "\\underbrace{\\dot{B}\\cdot A}_{\\text{Änderung des Magnetfeldes}}  &=& - \\underbrace{\\dot{A}\\cdot B}_{\\text{Änderung der Fläche}} \n",
    "\\end{eqnarray}$$\n",
    "Durch das Lösen dieser Gleichung mit einem Computerprogramm (oder viel Papier) erhält man:"
   ]
  },
  {
   "cell_type": "code",
   "execution_count": 9,
   "metadata": {},
   "outputs": [
    {
     "data": {
      "text/latex": [
       "$$- s v B{\\left (t \\right )} + \\left(A_{0} - s t v\\right) \\frac{d}{d t} B{\\left (t \\right )} = 0$$"
      ],
      "text/plain": [
       "                         d           \n",
       "-s⋅v⋅B(t) + (A₀ - s⋅t⋅v)⋅──(B(t)) = 0\n",
       "                         dt          "
      ]
     },
     "execution_count": 9,
     "metadata": {},
     "output_type": "execute_result"
    }
   ],
   "source": [
    "eqn = sp.Eq(sf('B(t)*A(t)').subs(sf('A(t)'),sf('A_0-s*v*t')).diff(sf('t')),0)\n",
    "eqn"
   ]
  },
  {
   "cell_type": "code",
   "execution_count": 10,
   "metadata": {},
   "outputs": [
    {
     "data": {
      "text/latex": [
       "$$B{\\left (t \\right )} = \\frac{C_{1}}{- A_{0} + s t v}$$"
      ],
      "text/plain": [
       "            C₁    \n",
       "B(t) = ───────────\n",
       "       -A₀ + s⋅t⋅v"
      ]
     },
     "execution_count": 10,
     "metadata": {},
     "output_type": "execute_result"
    }
   ],
   "source": [
    "solution = sp.dsolve(eqn)\n",
    "solution"
   ]
  },
  {
   "cell_type": "markdown",
   "metadata": {},
   "source": [
    "Die Konstante $C_1$ entspricht dem konstanten magnetischen Fluss $\\Phi$."
   ]
  },
  {
   "cell_type": "markdown",
   "metadata": {},
   "source": [
    "## Aufgabe 2"
   ]
  },
  {
   "cell_type": "markdown",
   "metadata": {},
   "source": [
    "### a)\n",
    "Die Ladungen auf dem Leiter werden senkrecht zu den Magnetfeldlinien durch das Feld bewegt."
   ]
  },
  {
   "cell_type": "markdown",
   "metadata": {},
   "source": [
    "### b)\n",
    "siehe Skizze bei c)"
   ]
  },
  {
   "cell_type": "markdown",
   "metadata": {},
   "source": [
    "### c)\n",
    "Der Stab bewegt sich im Uhrzeigersinn. Wenn die Fläche die der Stab dabei mit dem Mittelpunktswinkel $\\alpha$ \"aufspannt\" ist:\n",
    "$$A = r^2 \\cdot \\pi \\cdot \\frac{\\alpha}{360°}$$\n",
    "In einer Sekunde rotert der Stab 50 Mal $360°$ - daraus folgt, dass der Winkel $\\alpha = 360° \\cdot t \\cdot 50 \\mathrm{Hz}$ ist. Die Fläche in Abhängigkeit zu der Zeit ist dann:\n",
    "$$A = r^2 \\cdot \\pi \\cdot t \\cdot 50\\mathrm{Hz}$$\n",
    "Die zeitliche Flächenänderung $\\frac{\\Delta A}{\\Delta t}=\\dot{A} = r^2 \\cdot \\pi \\cdot 50\\mathrm{Hz}$ benötigt man um die Induktionsspannung über die Änderung des magnetischen Flusses zu berechnen:\n",
    "$$\\begin{eqnarray}\n",
    "U_{\\mathrm{ind}} &=& \\dot{\\Phi} = B \\cdot \\dot{A}\n",
    "&=& B \\cdot r^2 \\cdot \\pi \\cdot 50\\mathrm{Hz}\n",
    "\\end{eqnarray}$$\n",
    "<img style=\"float: middle;\" height=\"200\" width=\"200\" src=\"material/03_Induktion_II_F1.svg\">"
   ]
  },
  {
   "cell_type": "code",
   "execution_count": 11,
   "metadata": {},
   "outputs": [
    {
     "data": {
      "text/markdown": [
       "Gegeben: <br/> $B = 50 mT$; $f = 50 Hz$; $r = 10 cm$<br/>Lösung:<br/>$U_{ind} = 78.5 mV$"
      ],
      "text/plain": [
       "<IPython.core.display.Markdown object>"
      ]
     },
     "execution_count": 11,
     "metadata": {},
     "output_type": "execute_result"
    }
   ],
   "source": [
    "B = pe('50mT')\n",
    "f = pe('50Hz')\n",
    "r = pe('10cm')\n",
    "\n",
    "Uind = (B*r**2*np.pi*f).to('mV')\n",
    "\n",
    "md(\"Gegeben: <br/>\"\n",
    "+ \" $B = {:~P}$\".format(B) \n",
    "+ \"; $f = {:~P}$\".format(f) \n",
    "+ \"; $r = {:~P}$\".format(r) \n",
    "+ \"<br/>Lösung:<br/>\" \n",
    "+ \"$U_{{ind}} = {:.3~P}$\".format(Uind))"
   ]
  },
  {
   "cell_type": "markdown",
   "metadata": {},
   "source": [
    "### d)\n",
    "Bei einer Kreisbewegung ist die Bahngeschwindigkeit $v = r \\cdot \\omega$ mit der Winkelgeschwindigkeit $\\omega = \\frac{2 \\pi}{T} = 2 \\pi f$ (Frequenz: Zwei mal $360° = 2 \\pi$ pro Umlaufzeit $T$).\n",
    "\n",
    "Man überlegt sich, wie groß die mittlere Geschwindigkeit ist,mit der sich die Elektronen auf der Kreisbahn bewegen. Der Mittelwert ergibt sich mit dem Integral $v_m = \\frac{\\int_{r_u}^{r_o} r \\cdot \\omega ~\\mathrm{d}r}{r_o-r_u}=\\omega \\cdot \\underbrace{\\frac{\\left(r_{o} + r_{u}\\right)}{2}}_{= r_m}$. Da man die Spannung im Kreismittelpunkt abgreift ist $r_u = 0$ und $r_o = r$. Damit ergibt sich ein \"effektiver\" Radius von $r_m = \\frac{r}{2}$. Die Induktionsspannung kann man berechnen mit $l = r$:\n",
    "$$\\begin{eqnarray}\n",
    "U_{\\mathrm{ind}} &=& B \\cdot \\underbrace{r \\cdot v}_{= \\dot{A}} \\\\\n",
    "&=& B \\cdot r \\cdot \\omega \\cdot \\frac{r}{2} \\\\\n",
    "&=& B \\cdot 2 \\pi f \\cdot \\frac{r^2}{2} \\\\\n",
    "&=& B \\cdot \\pi f r^2\n",
    "\\end{eqnarray}$$\n",
    "Damit ergibt sich genau der gleiche Rechenausdruck wie bei Teilaufgabe c)."
   ]
  },
  {
   "cell_type": "markdown",
   "metadata": {},
   "source": [
    "## Aufgaben 3 - 5\n",
    "<img style=\"float: middle;\" height=\"200\" width=\"200\" src=\"material/comingsoon.jpg\">"
   ]
  }
 ],
 "metadata": {
  "kernelspec": {
   "display_name": "Python 3",
   "language": "python",
   "name": "python3"
  },
  "language_info": {
   "codemirror_mode": {
    "name": "ipython",
    "version": 3
   },
   "file_extension": ".py",
   "mimetype": "text/x-python",
   "name": "python",
   "nbconvert_exporter": "python",
   "pygments_lexer": "ipython3",
   "version": "3.6.5"
  }
 },
 "nbformat": 4,
 "nbformat_minor": 2
}
