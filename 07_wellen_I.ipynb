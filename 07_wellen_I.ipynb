{
 "cells": [
  {
   "cell_type": "code",
   "execution_count": 1,
   "metadata": {},
   "outputs": [],
   "source": [
    "from __future__ import division\n",
    "from IPython.display import display\n",
    "from IPython.display import Markdown as md\n",
    "from IPython.core.display import SVG\n",
    "from sympy.interactive import printing\n",
    "printing.init_printing(use_latex='mathjax')\n",
    "\n",
    "import pandas as pd\n",
    "import numpy as np\n",
    "import random\n",
    "import matplotlib.pyplot as plt\n",
    "from scipy.odr import *\n",
    "import scipy.odr.odrpack as odrpack\n",
    "from uncertainties import ufloat\n",
    "from uncertainties.umath import *\n",
    "from uncertainties import unumpy\n",
    "\n",
    "import sympy as sp\n",
    "sf = sp.sympify\n",
    "\n",
    "import scipy.constants as cm\n",
    "import pint as pn\n",
    "ureg = pn.UnitRegistry(system='mks')\n",
    "ureg.default_format = '~P'\n",
    "pe = ureg.parse_expression\n",
    "\n",
    "## Konstanten und Einheiten\n",
    "CM = pd.DataFrame(cm.physical_constants).T\n",
    "CM['c'] = CM.index\n",
    "CM = CM.reset_index(drop=True)\n",
    "def getpc(quant):\n",
    "    DF = CM\n",
    "    DF = DF[DF['c']==quant].reset_index(drop=True)\n",
    "    quan = DF[0][0] * ureg(DF[1][0])\n",
    "    return quan\n",
    "def addnoise(X,scale=0.01,lin=False):\n",
    "    if not lin:\n",
    "        mag = scale*(np.max(X.m)-np.min(X.m))\n",
    "        return np.random.normal(0,mag,len(X.m))*X.u\n",
    "    if lin:\n",
    "        return np.random.normal(0,1,len(X.m))*X*scale\n",
    "def uODR(func,beta0,xdata,ydata,**kwargs):\n",
    "    xfit = kwargs.get('xfit',xdata)\n",
    "    sx = kwargs.get('sx',None)\n",
    "    sy = kwargs.get('sy',None)\n",
    "    model = Model(func)\n",
    "    data = RealData(xdata,ydata, sx=sx, sy=sy)\n",
    "    odr = ODR(data, model, beta0=beta0)\n",
    "    out = odr.run()\n",
    "    # Estimated parameter values, of shape q\n",
    "    p = out.beta\n",
    "    # Standard errors of the estimated parameters, of shape p\n",
    "    perr = out.sd_beta\n",
    "    up =unumpy.uarray(p, perr)\n",
    "    yfit=func(p, xfit) \n",
    "    return up , p, yfit, out"
   ]
  },
  {
   "cell_type": "code",
   "execution_count": 2,
   "metadata": {},
   "outputs": [],
   "source": [
    "g = getpc('standard acceleration of gravity')\n",
    "m_e = getpc('electron mass')\n",
    "e = getpc('elementary charge')\n",
    "c = getpc('speed of light in vacuum')\n",
    "e0 = getpc('electric constant')\n",
    "mu0 = getpc('mag. constant')"
   ]
  },
  {
   "cell_type": "code",
   "execution_count": 3,
   "metadata": {},
   "outputs": [
    {
     "data": {
      "text/html": [
       "<script>\n",
       "code_show=true; \n",
       "function code_toggle() {\n",
       " if (code_show){\n",
       " $('div.input').hide();\n",
       " } else {\n",
       " $('div.input').show();\n",
       " }\n",
       " code_show = !code_show\n",
       "} \n",
       "$( document ).ready(code_toggle);\n",
       "</script>\n",
       "<form action=\"javascript:code_toggle()\"><input type=\"submit\" value=\"Quellcode an/aus schalten.\"></form>"
      ],
      "text/plain": [
       "<IPython.core.display.HTML object>"
      ]
     },
     "execution_count": 3,
     "metadata": {},
     "output_type": "execute_result"
    }
   ],
   "source": [
    "from IPython.display import HTML\n",
    "\n",
    "HTML('''<script>\n",
    "code_show=true; \n",
    "function code_toggle() {\n",
    " if (code_show){\n",
    " $('div.input').hide();\n",
    " } else {\n",
    " $('div.input').show();\n",
    " }\n",
    " code_show = !code_show\n",
    "} \n",
    "$( document ).ready(code_toggle);\n",
    "</script>\n",
    "<form action=\"javascript:code_toggle()\"><input type=\"submit\" value=\"Quellcode an/aus schalten.\"></form>''')"
   ]
  },
  {
   "cell_type": "markdown",
   "metadata": {},
   "source": [
    "# Übungen Wellenfunktion, Transmission und Reflexion\n"
   ]
  },
  {
   "cell_type": "markdown",
   "metadata": {},
   "source": [
    "## Aufgabe 1\n",
    "https://www.leifiphysik.de/mechanik/mechanische-wellen/aufgabe/verschiedene-diagramme"
   ]
  },
  {
   "cell_type": "markdown",
   "metadata": {},
   "source": [
    "## Aufgabe 2\n",
    "https://www.leifiphysik.de/mechanik/mechanische-wellen/aufgabe/harmonische-wellen"
   ]
  },
  {
   "cell_type": "markdown",
   "metadata": {},
   "source": [
    "## Aufgabe 3\n",
    "### a)"
   ]
  },
  {
   "cell_type": "code",
   "execution_count": 4,
   "metadata": {},
   "outputs": [
    {
     "data": {
      "text/markdown": [
       "Gegeben: <br/> $\\hat{s} = 2 cm$; $T = 0.5 s$; $t_1 = 2.4 s$<br/>Lösung:<br/>$f = 2.0 1/s$; $\\omega = 12.6 1/s$; $s(t_1) = -1.9 cm$"
      ],
      "text/plain": [
       "<IPython.core.display.Markdown object>"
      ]
     },
     "execution_count": 4,
     "metadata": {},
     "output_type": "execute_result"
    }
   ],
   "source": [
    "s_ = pe('2cm')\n",
    "T = pe('0.50s')\n",
    "t_1 = pe('2.4s')\n",
    "\n",
    "f = 1/T\n",
    "omega = 2*np.pi*f\n",
    "\n",
    "s = lambda t: s_*np.sin(omega*t)\n",
    "\n",
    "md(\"Gegeben: <br/>\"\n",
    "+ \" $\\\\hat{{s}} = {:~P}$\".format(s_) \n",
    "+ \"; $T = {:~P}$\".format(T)  \n",
    "+ \"; $t_1 = {:~P}$\".format(t_1)  \n",
    "+ \"<br/>Lösung:<br/>\" \n",
    "+ \"$f = {:.2~P}$\".format(f)\n",
    "+ \"; $\\\\omega = {:.3~P}$\".format(omega)\n",
    "+ \"; $s(t_1) = {:.2~P}$\".format(s(t_1)))"
   ]
  },
  {
   "cell_type": "markdown",
   "metadata": {},
   "source": [
    "### b)\n"
   ]
  },
  {
   "cell_type": "code",
   "execution_count": 5,
   "metadata": {},
   "outputs": [
    {
     "data": {
      "text/markdown": [
       "Gegeben: <br/> $\\hat{s} = 2 cm$; $T = 0.5 s$; $t_1 = 2.4 s$<br/>Lösung:<br/>$f = 2.0 1/s$; $\\omega = 12.6 1/s$; $v(t_1) = 7.8 cm/s$"
      ],
      "text/plain": [
       "<IPython.core.display.Markdown object>"
      ]
     },
     "execution_count": 5,
     "metadata": {},
     "output_type": "execute_result"
    }
   ],
   "source": [
    "s_ = pe('2cm')\n",
    "T = pe('0.50s')\n",
    "t_1 = pe('2.4s')\n",
    "\n",
    "f = 1/T\n",
    "omega = 2*np.pi*f\n",
    "\n",
    "v = lambda t: s_*omega*np.cos(omega*t)\n",
    "\n",
    "md(\"Gegeben: <br/>\"\n",
    "+ \" $\\\\hat{{s}} = {:~P}$\".format(s_) \n",
    "+ \"; $T = {:~P}$\".format(T)  \n",
    "+ \"; $t_1 = {:~P}$\".format(t_1)  \n",
    "+ \"<br/>Lösung:<br/>\" \n",
    "+ \"$f = {:.2~P}$\".format(f)\n",
    "+ \"; $\\\\omega = {:.3~P}$\".format(omega)\n",
    "+ \"; $v(t_1) = {:.2~P}$\".format(v(t_1)))"
   ]
  },
  {
   "cell_type": "markdown",
   "metadata": {},
   "source": [
    "### c)"
   ]
  },
  {
   "cell_type": "code",
   "execution_count": 6,
   "metadata": {},
   "outputs": [
    {
     "data": {
      "text/markdown": [
       "Gegeben: <br/> $t_2 = 1.125 s$; $c = 0.2 m/s$; $x_0 = 25 cm$<br/>Lösung:<br/>$\\lambda = 10.0 cm$; $k = 0.63 1/cm$; $omega = 12.6 1/s$"
      ],
      "text/plain": [
       "<IPython.core.display.Markdown object>"
      ]
     },
     "execution_count": 6,
     "metadata": {},
     "output_type": "execute_result"
    },
    {
     "data": {
      "image/png": "[encoded data removed]",
      "text/plain": [
       "<Figure size 900x360 with 2 Axes>"
      ]
     },
     "metadata": {
      "needs_background": "light"
     },
     "output_type": "display_data"
    }
   ],
   "source": [
    "pars =  {\n",
    "            's_' : pe('2cm'),\n",
    "            's_0' : pe('25cm'),\n",
    "            'T'  : pe('0.50s'),\n",
    "            't_2' : pe('1.125s'),\n",
    "            't_3' : pe('2.5s'),\n",
    "            'c'  : pe('0.20m/s'),\n",
    "        }\n",
    "pars['s'] = np.linspace(0,(pars['c']*pars['t_2']).to('m').m,100)*pe('m')\n",
    "pars['t'] = np.linspace(0,(pars['t_3']).to('s').m,100)*pe('s')\n",
    "pars['lam'] = (pars['c'] * pars['T']).to('cm')\n",
    "pars['k'] = (2*np.pi/pars['lam'])\n",
    "pars['omega'] = (2*np.pi/pars['T'])\n",
    "\n",
    "####\n",
    "\n",
    "fig, ax = plt.subplots(2,1,sharex=False,figsize=tuple(np.array([5,2])*2.5))\n",
    "fig.subplots_adjust(wspace = 0.1,hspace = 0.5)\n",
    "try: ax = list(ax.flatten())\n",
    "except: ax = [ax]\n",
    "\n",
    "X = pars['t'].to('s')\n",
    "Y = pars['s_']*np.sin(pars['k']*pars['s_0']-pars['omega']*X)\n",
    "\n",
    "ax[1].plot(X.m,Y.m,'-')#,linestyle='None')\n",
    "ax[1].set_title(u'ii) $x_0$=%s'%(\"{:~P}\".format(pars['s_0'])))\n",
    "ax[1].set_xlabel(u't in %s'%(\"{:~P}\".format(X.u)))\n",
    "ax[1].set_ylabel(u'y in %s'%(\"{:~P}\".format(Y.u)))\n",
    "\n",
    "#ax[0].xaxis.set_major_locator(plt.MultipleLocator(1))\n",
    "#ax[0].yaxis.set_major_locator(plt.MultipleLocator(0.5))\n",
    "#ax[0].xaxis.set_minor_locator(plt.MultipleLocator(0.2))\n",
    "#ax[0].yaxis.set_minor_locator(plt.MultipleLocator(1))\n",
    "\n",
    "X = pars['s'].to('m')\n",
    "Y = pars['s_']*np.sin(pars['k']*X-pars['omega']*pars['t_2'])\n",
    "\n",
    "ax[0].plot(X.m,Y.m,'-')#,linestyle='None')\n",
    "ax[0].set_title(u'i) $t_2$=%s'%(\"{:~P}\".format(pars['t_2'])))\n",
    "ax[0].set_xlabel(u's in %s'%(\"{:~P}\".format(X.u)))\n",
    "ax[0].set_ylabel(u'y in %s'%(\"{:~P}\".format(Y.u)))\n",
    "\n",
    "\n",
    "ax[0].grid(True,which='both')\n",
    "ax[1].grid(True,which='both')\n",
    "#lims = ax[0].set_xlim(left=0)\n",
    "#lims = ax[0].set_ylim(bottom=0)\n",
    "\n",
    "#fig.savefig('A12_fig1.svg', bbox_inches='tight', pad_inches=0, dpi=400)\n",
    "\n",
    "md(\"Gegeben: <br/>\"\n",
    "+ \" $t_2 = {:~P}$\".format(pars['t_2'])  \n",
    "+ \"; $c = {:~P}$\".format(pars['c'])\n",
    "+ \"; $x_0 = {:~P}$\".format(pars['s_0'])\n",
    "+ \"<br/>Lösung:<br/>\" \n",
    "+ \"$\\\\lambda = {:~P}$\".format(pars['lam'])\n",
    "+ \"; $k = {:.2~P}$\".format(pars['k'])\n",
    "+ \"; $omega = {:.3~P}$\".format(pars['omega']))\n"
   ]
  },
  {
   "cell_type": "markdown",
   "metadata": {},
   "source": [
    "## Aufgabe 4"
   ]
  },
  {
   "cell_type": "markdown",
   "metadata": {},
   "source": [
    "### a)\n",
    "Da das Seil an beiden Ende gespannt ist, muss die Zugkraft in jedem Element des Seils gleich sein. Man vergleicht das Verhältnis der Ausbreitungsgeschwindigkeiten (die Zugkraft F kürzt sich):\n",
    "$$\\frac{c_2}{c_1} = \\sqrt{\\frac{\\rho_1}{\\rho_2}}$$"
   ]
  },
  {
   "cell_type": "code",
   "execution_count": 7,
   "metadata": {},
   "outputs": [
    {
     "data": {
      "text/markdown": [
       "Gegeben: <br/> $\\rho_1 = 0.1 kg/m$; $\\rho_2 = 0.2 kg/m$<br/>Lösung:<br/>$c_2/c_1 = 0.71$"
      ],
      "text/plain": [
       "<IPython.core.display.Markdown object>"
      ]
     },
     "execution_count": 7,
     "metadata": {},
     "output_type": "execute_result"
    }
   ],
   "source": [
    "rho1 = pe('0.1kg/m')\n",
    "rho2 = pe('0.2kg/m')\n",
    "\n",
    "c2c1 = np.sqrt(rho1/rho2)\n",
    "\n",
    "md(\"Gegeben: <br/>\"\n",
    "+ \" $\\\\rho_1 = {:~P}$\".format(rho1) \n",
    "+ \"; $\\\\rho_2 = {:~P}$\".format(rho2)   \n",
    "+ \"<br/>Lösung:<br/>\" \n",
    "+ \"$c_2/c_1 = {:.2~P}$\".format(c2c1))"
   ]
  },
  {
   "cell_type": "markdown",
   "metadata": {},
   "source": [
    "In dem schwereren Teil ist die Ausbreitungsgeschwindigkeit nur ca 71% der Ausbreitungsgeschwindigkeit des leichten Teils."
   ]
  },
  {
   "cell_type": "markdown",
   "metadata": {},
   "source": [
    "### b)\n",
    "Benachbarte Seilelemente regen sich gegenseitig zu einer Schwingung an. Im Fall er angeregten Schwingung, folgt die Frequenz des Systems der Frequenz des Erregers."
   ]
  },
  {
   "cell_type": "markdown",
   "metadata": {},
   "source": [
    "### c)\n",
    "Da für die Wellenlängen $\\lambda = c \\cdot T$ gilt, und die Periodendauern gleich sind, folgt das gleiche Ergebnis für das Verhältnis der Wellenlängen $\\frac{\\lambda_2}{\\lambda_1}$ in beiden Abschnitten wie das der Ausbreitungsgeschwindigkeiten (siehe a))."
   ]
  },
  {
   "cell_type": "markdown",
   "metadata": {},
   "source": [
    "### d)\n",
    "Die Wellenfunktion des leichteren Teils ist gegeben. Da die Wellenzahl k angegeben ist, folgt direkt für die Wellenlänge $$\\lambda = \\frac{2 \\pi}{k}$$"
   ]
  },
  {
   "cell_type": "code",
   "execution_count": 8,
   "metadata": {},
   "outputs": [
    {
     "data": {
      "text/markdown": [
       "Gegeben: <br/> $k_1 = 6.0 1/m$<br/>Lösung:<br/>$\\lambda_1 = 1.05 m$"
      ],
      "text/plain": [
       "<IPython.core.display.Markdown object>"
      ]
     },
     "execution_count": 8,
     "metadata": {},
     "output_type": "execute_result"
    }
   ],
   "source": [
    "k_1 = pe('6.0/m')\n",
    "\n",
    "lamda_1 = 2*np.pi/k_1\n",
    "\n",
    "md(\"Gegeben: <br/>\"\n",
    "+ \" $k_1 = {:.2~P}$\".format(k_1)    \n",
    "+ \"<br/>Lösung:<br/>\" \n",
    "+ \"$\\\\lambda_1 = {:.3~P}$\".format(lamda_1))"
   ]
  },
  {
   "cell_type": "markdown",
   "metadata": {},
   "source": [
    "### e)\n",
    "Mit $c=\\frac{\\omega}{k}$ lässt sich die Ausbreitungsgeschwindigkeit aus der bekannten Kreisfrequenz (siehe d)) berechnen. Es gilt:\n",
    "$$\\begin{eqnarray}\n",
    "c_1 &=& \\frac{\\omega}{k_1} = \\sqrt{\\frac{F}{\\rho_1}} \\\\\n",
    "F &=& \\frac{\\omega^2 \\cdot\\rho_1}{k_1^2}\n",
    "\\end{eqnarray}$$\n",
    "\n",
    "$$\\begin{eqnarray}\n",
    "\\frac{k_1}{k_2} &=& \\frac{\\lambda_2}{\\lambda_1} = \\frac{c_2}{c_1} \\\\\n",
    "\\end{eqnarray}$$"
   ]
  },
  {
   "cell_type": "code",
   "execution_count": 9,
   "metadata": {},
   "outputs": [
    {
     "data": {
      "text/markdown": [
       "Gegeben: <br/> $k_1 = 6.0 1/m$; $\\omega = 12 Hz$; $\\rho_1 = 0.1 kg/m$<br/>Lösung:<br/>$F = 0.4 N$"
      ],
      "text/plain": [
       "<IPython.core.display.Markdown object>"
      ]
     },
     "execution_count": 9,
     "metadata": {},
     "output_type": "execute_result"
    }
   ],
   "source": [
    "k_1 = pe('6.0/m')\n",
    "omega = pe('12Hz')\n",
    "rho1 = pe('0.1kg/m')\n",
    "\n",
    "c_1 = omega/k_1\n",
    "F = (c_1**2*rho1).to('N')\n",
    "\n",
    "md(\"Gegeben: <br/>\"\n",
    "+ \" $k_1 = {:~P}$\".format(k_1)\n",
    "+ \"; $\\\\omega = {:~P}$\".format(omega)\n",
    "+ \"; $\\\\rho_1 = {:~P}$\".format(rho1)\n",
    "+ \"<br/>Lösung:<br/>\" \n",
    "+ \"$F = {:~P}$\".format(F))"
   ]
  },
  {
   "cell_type": "markdown",
   "metadata": {},
   "source": [
    "### f)\n",
    "Die Kraft und die Frequenz ändern sich nicht. Deswegen gelten die Verhältnisse (aus a) und c)) mit dem Zusammenhang $k = \\frac{2 \\pi}{\\lambda}$:\n",
    "\n",
    "$$\\begin{eqnarray}\n",
    "\\frac{k_1}{k_2} &=& \\frac{\\lambda_2}{\\lambda_1} = \\frac{c_2}{c_1} \\\\\n",
    "\\lambda_2 &=& \\frac{c_2}{c_1} \\cdot \\lambda_1 \\\\\n",
    "&=& \\sqrt{\\frac{\\rho_1}{\\rho_2}} \\cdot \\lambda_1 \\\\\n",
    "&=& \\sqrt{\\frac{\\rho_1}{\\rho_2}} \\cdot \\frac{2 \\pi}{k_1}\n",
    "\\end{eqnarray}$$"
   ]
  },
  {
   "cell_type": "code",
   "execution_count": 10,
   "metadata": {},
   "outputs": [
    {
     "data": {
      "text/markdown": [
       "Gegeben: <br/> $k_1 = 6.0 1/m$; $\\rho_1 = 0.1 kg/m$; $\\rho_2 = 0.2 kg/m$<br/>Lösung:<br/>$\\lambda_2 = 0.74 m$"
      ],
      "text/plain": [
       "<IPython.core.display.Markdown object>"
      ]
     },
     "execution_count": 10,
     "metadata": {},
     "output_type": "execute_result"
    }
   ],
   "source": [
    "k_1 = pe('6.0/m')\n",
    "rho1 = pe('0.1kg/m')\n",
    "rho2 = pe('0.2kg/m')\n",
    "lamda_1 = 2*np.pi/k_1\n",
    "\n",
    "lamda_2 = (np.sqrt(rho1/rho2) * lamda_1).to('m')\n",
    "\n",
    "md(\"Gegeben: <br/>\"\n",
    "+ \" $k_1 = {:~P}$\".format(k_1)\n",
    "+ \"; $\\\\rho_1 = {:~P}$\".format(rho1)\n",
    "+ \"; $\\\\rho_2 = {:~P}$\".format(rho2)\n",
    "+ \"<br/>Lösung:<br/>\" \n",
    "+ \"$\\\\lambda_2 = {:.2~P}$\".format(lamda_2))"
   ]
  },
  {
   "cell_type": "code",
   "execution_count": null,
   "metadata": {},
   "outputs": [],
   "source": []
  }
 ],
 "metadata": {
  "kernelspec": {
   "display_name": "Python 3",
   "language": "python",
   "name": "python3"
  },
  "language_info": {
   "codemirror_mode": {
    "name": "ipython",
    "version": 3
   },
   "file_extension": ".py",
   "mimetype": "text/x-python",
   "name": "python",
   "nbconvert_exporter": "python",
   "pygments_lexer": "ipython3",
   "version": "3.7.3"
  }
 },
 "nbformat": 4,
 "nbformat_minor": 2
}
